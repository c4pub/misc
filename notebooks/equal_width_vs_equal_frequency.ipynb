{
  "cells": [
    {
      "cell_type": "markdown",
      "id": "3j1ljjITDM-G",
      "metadata": {
        "id": "3j1ljjITDM-G"
      },
      "source": [
        "## Discretization: equal-width vs equal-frequency"
      ]
    },
    {
      "cell_type": "markdown",
      "id": "nnhVGZRiDM-M",
      "metadata": {
        "id": "nnhVGZRiDM-M"
      },
      "source": [
        "If in a hurry, should **equal-width** be the first choice?\n",
        "\n",
        "> So it seems according to this test on four popular scikit-learn datasets.\n",
        "\n",
        "The test uses as judging criteria the accuracy reported by a special classifier. In two of the datasets (iris and digits) the equal-width method markedly outperforms equal-frequency. In the other two datasets evaluated, the differences are much narrower and could be considered as a tie result. The observations remain consistent when varying the number of bins used to discretize the attribute values.\n",
        "\n",
        "This seems counter-intuitive; equal-frequency should have an advantage by providing better immunity in the presence of outliers.\n",
        "\n",
        "The used classifier, \"deodel\", discretizes continuous attributes using one of the two methods. After discretization, it behaves like a Hamming distance nearest neighbor classifier.\n",
        "\n",
        "The equal-width and equal-frequency are methods that are referred to as unsupervised methods. Supervised methods take into account the training output in order to establish the thresholds for the bins. In the selected output, the decision tree classifier is used as a proxy for such methods. Although the deodel classifier can be seen as a collapsed decision tree, the algorithms differ and comparison is not straightforward.\n",
        "\n",
        "You can modify the code and test it with other datasets. If you do, please share your findings. The code is available at:\n",
        "\n",
        "https://github.com/c4pub/deodel\n"
      ]
    },
    {
      "cell_type": "code",
      "execution_count": 1,
      "id": "lUZvG3vsDM-O",
      "metadata": {
        "colab": {
          "base_uri": "https://localhost:8080/"
        },
        "execution": {
          "iopub.execute_input": "2023-02-26T01:08:24.692791Z",
          "iopub.status.busy": "2023-02-26T01:08:24.692389Z",
          "iopub.status.idle": "2023-02-26T01:08:44.772350Z",
          "shell.execute_reply": "2023-02-26T01:08:44.770602Z",
          "shell.execute_reply.started": "2023-02-26T01:08:24.692758Z"
        },
        "id": "lUZvG3vsDM-O",
        "outputId": "551486f5-3253-4a3a-f1d0-9cbf57c4b9ac"
      },
      "outputs": [
        {
          "output_type": "stream",
          "name": "stdout",
          "text": [
            "*** Get remote files\n",
            "*** Run locally\n",
            "\n",
            "- - - - - - - - - \n",
            "\n",
            "- - - - - - - - - \n",
            "- - - - - - - - - \n",
            "- - - - average accuracy test\n",
            "\n",
            "- - - - iter_no: 50\n",
            "- - - - random_seed: 42\n",
            "\n",
            "\n",
            "- - - - dataset: .. _iris_d\n",
            "\n",
            "avg accuracy        classifier \n",
            "--------------------------------------------------------------------------------\n",
            "0.9436000000000001  DecisionTreeClassifier() \n",
            "0.5444000000000001  DeodataDelangaClassifier({'split_no': 2, 'split_mode': 'eq_freq'}) \n",
            "0.7199999999999999  DeodataDelangaClassifier({'split_no': 2, 'split_mode': 'eq_width'}) \n",
            "0.7880000000000001  DeodataDelangaClassifier({'split_no': 3, 'split_mode': 'eq_freq'}) \n",
            "0.9440000000000002  DeodataDelangaClassifier({'split_no': 3, 'split_mode': 'eq_width'}) \n",
            "0.7799999999999998  DeodataDelangaClassifier({'split_no': 5, 'split_mode': 'eq_freq'}) \n",
            "0.9308000000000001  DeodataDelangaClassifier({'split_no': 5, 'split_mode': 'eq_width'}) \n",
            "0.8556              DeodataDelangaClassifier({'split_no': 10, 'split_mode': 'eq_freq'}) \n",
            "0.936               DeodataDelangaClassifier({'split_no': 10, 'split_mode': 'eq_width'}) \n",
            "\n",
            "\n",
            "- - - - dataset: .. _digits\n",
            "\n",
            "avg accuracy        classifier \n",
            "--------------------------------------------------------------------------------\n",
            "0.8444741235392317  DecisionTreeClassifier() \n",
            "0.6716861435726209  DeodataDelangaClassifier({'split_no': 2, 'split_mode': 'eq_freq'}) \n",
            "0.9471786310517529  DeodataDelangaClassifier({'split_no': 2, 'split_mode': 'eq_width'}) \n",
            "0.6741235392320535  DeodataDelangaClassifier({'split_no': 3, 'split_mode': 'eq_freq'}) \n",
            "0.9465776293823037  DeodataDelangaClassifier({'split_no': 3, 'split_mode': 'eq_width'}) \n",
            "0.6943238731218699  DeodataDelangaClassifier({'split_no': 5, 'split_mode': 'eq_freq'}) \n",
            "0.9380634390651086  DeodataDelangaClassifier({'split_no': 5, 'split_mode': 'eq_width'}) \n",
            "0.7239398998330548  DeodataDelangaClassifier({'split_no': 10, 'split_mode': 'eq_freq'}) \n",
            "0.9100500834724545  DeodataDelangaClassifier({'split_no': 10, 'split_mode': 'eq_width'}) \n",
            "\n",
            "\n",
            "- - - - dataset: .. _breast\n",
            "\n",
            "avg accuracy        classifier \n",
            "--------------------------------------------------------------------------------\n",
            "0.9227368421052633  DecisionTreeClassifier() \n",
            "0.921684210526316   DeodataDelangaClassifier({'split_no': 2, 'split_mode': 'eq_freq'}) \n",
            "0.9134736842105263  DeodataDelangaClassifier({'split_no': 2, 'split_mode': 'eq_width'}) \n",
            "0.9394736842105263  DeodataDelangaClassifier({'split_no': 3, 'split_mode': 'eq_freq'}) \n",
            "0.9401052631578947  DeodataDelangaClassifier({'split_no': 3, 'split_mode': 'eq_width'}) \n",
            "0.9423157894736842  DeodataDelangaClassifier({'split_no': 5, 'split_mode': 'eq_freq'}) \n",
            "0.9403157894736843  DeodataDelangaClassifier({'split_no': 5, 'split_mode': 'eq_width'}) \n",
            "0.9421052631578948  DeodataDelangaClassifier({'split_no': 10, 'split_mode': 'eq_freq'}) \n",
            "0.9363157894736841  DeodataDelangaClassifier({'split_no': 10, 'split_mode': 'eq_width'}) \n",
            "\n",
            "\n",
            "- - - - dataset: .. _wine_d\n",
            "\n",
            "avg accuracy        classifier \n",
            "--------------------------------------------------------------------------------\n",
            "0.9073333333333331  DecisionTreeClassifier() \n",
            "0.8759999999999999  DeodataDelangaClassifier({'split_no': 2, 'split_mode': 'eq_freq'}) \n",
            "0.8899999999999997  DeodataDelangaClassifier({'split_no': 2, 'split_mode': 'eq_width'}) \n",
            "0.9279999999999997  DeodataDelangaClassifier({'split_no': 3, 'split_mode': 'eq_freq'}) \n",
            "0.9256666666666663  DeodataDelangaClassifier({'split_no': 3, 'split_mode': 'eq_width'}) \n",
            "0.9433333333333331  DeodataDelangaClassifier({'split_no': 5, 'split_mode': 'eq_freq'}) \n",
            "0.9470000000000001  DeodataDelangaClassifier({'split_no': 5, 'split_mode': 'eq_width'}) \n",
            "0.9356666666666668  DeodataDelangaClassifier({'split_no': 10, 'split_mode': 'eq_freq'}) \n",
            "0.9343333333333331  DeodataDelangaClassifier({'split_no': 10, 'split_mode': 'eq_width'}) \n",
            "\n",
            "- - - - - - - - - \n",
            "- - - - - - - - - \n",
            "\n",
            "- - - - - - - - - \n",
            "\n",
            "*** End\n"
          ]
        }
      ],
      "source": [
        "\"\"\"\n",
        "    Compare discretization/binning methods\n",
        "\"\"\"\n",
        "\n",
        "# >- - - - - - - - - - - - - - - - - - - - - - - - - - - - - - - - - -\n",
        "print(\"*** Get remote files\")\n",
        "\n",
        "import urllib\n",
        "import shutil\n",
        "\n",
        "remote_list = [\n",
        "                {'file': 'deodel.py', 'url': \"https://raw.githubusercontent.com/c4pub/deodel/main/deodel.py\"},\n",
        "                {'file': 'usap_common.py', 'url': \"https://raw.githubusercontent.com/c4pub/deodel/main/usap_common.py\"},\n",
        "                {'file': 'usap_cmp_binning.py', 'url': \"https://raw.githubusercontent.com/c4pub/deodel/main/usap_cmp_binning.py\"},\n",
        "            ]\n",
        "\n",
        "for remote_entry in remote_list :\n",
        "    file_name = remote_entry['file']\n",
        "    url = remote_entry['url']\n",
        "    with urllib.request.urlopen(url) as response, open(file_name, 'wb') as out_file:\n",
        "        shutil.copyfileobj(response, out_file)\n",
        "\n",
        "# >- - - - - - - - - - - - - - - - - - - - - - - - - - - - - - - - - -\n",
        "print(\"*** Run locally\")\n",
        "\n",
        "import deodel\n",
        "import usap_common\n",
        "import usap_cmp_binning\n",
        "\n",
        "# >- - - - - - - - - - - - - - - - - - - - - - - - - - - - - - - - - -\n",
        "print(\"*** End\")\n"
      ]
    },
    {
      "cell_type": "code",
      "execution_count": 1,
      "id": "jxNGMM-GDM-R",
      "metadata": {
        "id": "jxNGMM-GDM-R"
      },
      "outputs": [],
      "source": []
    },
    {
      "cell_type": "code",
      "execution_count": 1,
      "id": "SYw0OBESDM-R",
      "metadata": {
        "id": "SYw0OBESDM-R"
      },
      "outputs": [],
      "source": []
    }
  ],
  "metadata": {
    "colab": {
      "provenance": []
    },
    "kernelspec": {
      "display_name": "Python 3 (ipykernel)",
      "language": "python",
      "name": "python3"
    },
    "language_info": {
      "codemirror_mode": {
        "name": "ipython",
        "version": 3
      },
      "file_extension": ".py",
      "mimetype": "text/x-python",
      "name": "python",
      "nbconvert_exporter": "python",
      "pygments_lexer": "ipython3",
      "version": "3.10.5"
    }
  },
  "nbformat": 4,
  "nbformat_minor": 5
}